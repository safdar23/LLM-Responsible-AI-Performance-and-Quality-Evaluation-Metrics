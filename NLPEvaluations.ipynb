{
  "cells": [
    {
      "cell_type": "markdown",
      "source": [
        "## Introduction\n",
        "This notebook provides an overview of Azure promptflow QA evaluations and Azure Resposnsible AI evaluations. Please create Azure Open AI deployments and Azure AI Studio resource and fill the environment variables with the resources names"
      ],
      "metadata": {
        "nteract": {
          "transient": {
            "deleting": false
          }
        }
      }
    },
    {
      "cell_type": "markdown",
      "source": [
        "## Install promptflow libraries"
      ],
      "metadata": {
        "nteract": {
          "transient": {
            "deleting": false
          }
        }
      }
    },
    {
      "cell_type": "code",
      "source": [
        "%pip install promptflow\n",
        "%pip install promptflow-evals"
      ],
      "outputs": [],
      "execution_count": null,
      "metadata": {
        "jupyter": {
          "source_hidden": false,
          "outputs_hidden": false
        },
        "nteract": {
          "transient": {
            "deleting": false
          }
        }
      }
    },
    {
      "cell_type": "markdown",
      "source": [
        "## import the Azure QA and Responsible AI Evaluators"
      ],
      "metadata": {
        "nteract": {
          "transient": {
            "deleting": false
          }
        }
      }
    },
    {
      "cell_type": "code",
      "source": [
        "import os\n",
        "from promptflow.core import AzureOpenAIModelConfiguration\n",
        "from promptflow.evals.evaluators import GroundednessEvaluator,RelevanceEvaluator,CoherenceEvaluator,FluencyEvaluator,SimilarityEvaluator,F1ScoreEvaluator,ViolenceEvaluator,SexualEvaluator,SelfHarmEvaluator,HateUnfairnessEvaluator\n",
        "from promptflow.evals.evaluators import  QAEvaluator,ContentSafetyEvaluator,ChatEvaluator,ContentSafetyChatEvaluator\n",
        "\n"
      ],
      "outputs": [],
      "execution_count": 6,
      "metadata": {
        "jupyter": {
          "source_hidden": false,
          "outputs_hidden": false
        },
        "nteract": {
          "transient": {
            "deleting": false
          }
        },
        "gather": {
          "logged": 1726080974978
        }
      }
    },
    {
      "cell_type": "markdown",
      "source": [
        "## Create the Azure AI Studio resource and Azure Open AI resource and set the Environment Variables\n",
        "\n",
        "Please check for Azure AI Studio RAI supported regions , for this notebook my AI studio hub is created in East US 2"
      ],
      "metadata": {
        "nteract": {
          "transient": {
            "deleting": false
          }
        }
      }
    },
    {
      "cell_type": "code",
      "source": [
        "os.environ[\"AZURE_OPENAI_ENDPOINT\"]=\"https://xxxx.openai.azure.com/\"\n",
        "os.environ[\"AZURE_OPENAI_API_KEY\"]=\"xxxxx\"\n",
        "os.environ[\"AZURE_OPENAI_DEPLOYMENT\"]=\"gpt-4o\"\n",
        "os.environ[\"AZURE_OPENAI_API_VERSION\"]=\"2024-02-15-preview\"\n",
        "os.environ[\"AZURE_AI_STUDIO_SUBSCRIPTION_ID\"]=\"xxxxxx\"\n",
        "os.environ[\"AZURE_AI_STUDIO_RESOURCE_GROUP_NAME\"]=\"xxxxx\"\n",
        "os.environ[\"AZURE_AI_STUDIO_PROJECT_NAME\"]=\"xxxxxxxx\""
      ],
      "outputs": [],
      "execution_count": 7,
      "metadata": {
        "jupyter": {
          "source_hidden": false,
          "outputs_hidden": false
        },
        "nteract": {
          "transient": {
            "deleting": false
          }
        },
        "gather": {
          "logged": 1726080975125
        }
      }
    },
    {
      "cell_type": "markdown",
      "source": [
        "## Load the Azure AI Studio information \n",
        "\n",
        "for supported regions please look at https://learn.microsoft.com/en-us/azure/ai-services/openai/how-to/risks-safety-monitor"
      ],
      "metadata": {
        "nteract": {
          "transient": {
            "deleting": false
          }
        }
      }
    },
    {
      "cell_type": "code",
      "source": [
        "azure_ai_project = {\n",
        "    \"subscription_id\": os.environ.get(\"AZURE_AI_STUDIO_SUBSCRIPTION_ID\"),\n",
        "    \"resource_group_name\":os.environ.get(\"AZURE_AI_STUDIO_RESOURCE_GROUP_NAME\"),\n",
        "    \"project_name\": os.environ.get(\"AZURE_AI_STUDIO_PROJECT_NAME\"),\n",
        "}\n",
        "\n"
      ],
      "outputs": [],
      "execution_count": 9,
      "metadata": {
        "jupyter": {
          "source_hidden": false,
          "outputs_hidden": false
        },
        "nteract": {
          "transient": {
            "deleting": false
          }
        },
        "gather": {
          "logged": 1726080985648
        }
      }
    },
    {
      "cell_type": "markdown",
      "source": [
        "## Load the BULK test dataset which we collected from our application"
      ],
      "metadata": {
        "nteract": {
          "transient": {
            "deleting": false
          }
        }
      }
    },
    {
      "cell_type": "code",
      "source": [
        "import json\n",
        "file_path_qa = 'qa_with_context.jsonl'\n",
        "\n",
        "def read_jsonl(file_path):\n",
        "    data = []\n",
        "    with open(file_path, 'r', encoding='utf-8') as file:\n",
        "        for line in file:\n",
        "            data.append(json.loads(line.strip()))\n",
        "    return data\n"
      ],
      "outputs": [],
      "execution_count": 10,
      "metadata": {
        "jupyter": {
          "source_hidden": false,
          "outputs_hidden": false
        },
        "nteract": {
          "transient": {
            "deleting": false
          }
        },
        "gather": {
          "logged": 1726080987076
        }
      }
    },
    {
      "cell_type": "markdown",
      "source": [
        "## Load the QA test dataset to calculate relevance, fluency, coherence, F1score, groundedness and similarity evaluations"
      ],
      "metadata": {
        "nteract": {
          "transient": {
            "deleting": false
          }
        }
      }
    },
    {
      "cell_type": "code",
      "source": [
        "data = read_jsonl(file_path_qa)\n"
      ],
      "outputs": [],
      "execution_count": 11,
      "metadata": {
        "jupyter": {
          "source_hidden": false,
          "outputs_hidden": false
        },
        "nteract": {
          "transient": {
            "deleting": false
          }
        },
        "gather": {
          "logged": 1726080990916
        }
      }
    },
    {
      "cell_type": "markdown",
      "source": [
        "## Individual Performance and Quality metrics on questions and answers"
      ],
      "metadata": {
        "nteract": {
          "transient": {
            "deleting": false
          }
        }
      }
    },
    {
      "cell_type": "code",
      "source": [
        "\n",
        "# Initialize Azure OpenAI Connection with your environment variables\n",
        "model_config = AzureOpenAIModelConfiguration(\n",
        "    azure_endpoint=os.environ.get(\"AZURE_OPENAI_ENDPOINT\"),\n",
        "    api_key=os.environ.get(\"AZURE_OPENAI_API_KEY\"),\n",
        "    azure_deployment=os.environ.get(\"AZURE_OPENAI_DEPLOYMENT\"),\n",
        "    api_version=os.environ.get(\"AZURE_OPENAI_API_VERSION\"),\n",
        ")\n",
        "\n",
        "\n",
        "\n",
        "# Initialzing Evaluators\n",
        "relevance_eval = RelevanceEvaluator(model_config)\n",
        "coherance_eval=CoherenceEvaluator(model_config)\n",
        "fluency_eval = FluencyEvaluator(model_config)\n",
        "similarity_eval=SimilarityEvaluator(model_config)\n",
        "\n",
        "f1Score_eval=F1ScoreEvaluator()\n",
        "groundedness_eval=GroundednessEvaluator(model_config)\n",
        "chat_eval= ChatEvaluator(model_config)\n",
        "\n",
        "for entry in data:\n",
        "    question = entry.get('question')\n",
        "    print(\"--------------------------\")\n",
        "    print(question)\n",
        "    \n",
        "    answer = entry.get('answer')\n",
        "    groundtruth = entry.get('ground_truth')\n",
        "    context = entry.get('context')\n",
        "\n",
        "    # Running Relevance Evaluator required fields are Answer, Context and Question\n",
        "    relevance_score = relevance_eval(\n",
        "        answer=answer,\n",
        "        context=context,\n",
        "        question=question\n",
        "    )\n",
        "    print(relevance_score)\n",
        "\n",
        "\n",
        "\n",
        "    # Running Coherence Evaluator required fields are Answer and Question\n",
        "    coherance_score = coherance_eval(\n",
        "        answer=answer,\n",
        "        question=question\n",
        "    )\n",
        "    print(coherance_score)\n",
        "\n",
        "\n",
        "\n",
        "    # Running Fluency Evaluator required fields are Answer and Question\n",
        "    fluency_score = fluency_eval(\n",
        "        answer=answer,\n",
        "        question=question\n",
        "    )\n",
        "    print(fluency_score)\n",
        "\n",
        "\n",
        "    # Running Similarity Evaluator  required fields are Answer, groundtruth Context and Question\n",
        "    similarity_score = similarity_eval(\n",
        "        answer=answer,\n",
        "        context=context,\n",
        "        question=question,\n",
        "        ground_truth=groundtruth\n",
        "    )\n",
        "    print(similarity_score)\n",
        "\n",
        "    # Running groundedness Evaluator required fields are Answer, groundtruth and Context\n",
        "    groundedness_score = groundedness_eval(\n",
        "        answer=answer,\n",
        "        ground_truth=groundtruth,\n",
        "        context=context\n",
        "    )\n",
        "    print(groundedness_score)\n",
        "\n",
        "    \n",
        "\n",
        "    print(\"--------------------------\")"
      ],
      "outputs": [],
      "execution_count": null,
      "metadata": {
        "gather": {
          "logged": 1726081060562
        }
      }
    },
    {
      "cell_type": "markdown",
      "source": [
        "## Composite Performance and Quality metrics on questions and answers"
      ],
      "metadata": {
        "nteract": {
          "transient": {
            "deleting": false
          }
        }
      }
    },
    {
      "cell_type": "code",
      "source": [
        "qa_eval = QAEvaluator(model_config)\n",
        "\n",
        "for entry in data:\n",
        "    question = entry.get('question')\n",
        "    print(\"--------------------------\")\n",
        "    print(question)\n",
        "    \n",
        "    answer = entry.get('answer')\n",
        "    groundtruth = entry.get('ground_truth')\n",
        "    context = entry.get('context')\n",
        "\n",
        "    # Running Relevance Evaluator on single input row\n",
        "    qaeval_score = qa_eval(\n",
        "        answer=answer,\n",
        "        context=context,\n",
        "        question=question,\n",
        "        ground_truth=groundtruth\n",
        "    )\n",
        "    print(qaeval_score)\n"
      ],
      "outputs": [],
      "execution_count": null,
      "metadata": {
        "jupyter": {
          "source_hidden": false,
          "outputs_hidden": false
        },
        "nteract": {
          "transient": {
            "deleting": false
          }
        },
        "gather": {
          "logged": 1726081115223
        }
      }
    },
    {
      "cell_type": "markdown",
      "source": [
        "## Composite Performance and Quality metrics on Chat Session"
      ],
      "metadata": {
        "nteract": {
          "transient": {
            "deleting": false
          }
        }
      }
    },
    {
      "cell_type": "code",
      "source": [
        " #chat evalutaors\n",
        "chateval_score = chat_eval(\n",
        "       conversation = [\n",
        "    {\"role\": \"user\", \"content\": \"What is the price of running shoes?\"},\n",
        "    {\"role\": \"assistant\", \"content\": \"The price of running shoe is $6\", \"context\": {\n",
        "        \"citations\": [\n",
        "                {\"id\": \"productprice.md\", \"content\": \"Information about running shoe price: $6\"}\n",
        "                ]\n",
        "        }\n",
        "    }\n",
        "    \n",
        "]\n",
        "    )\n",
        "print(chateval_score)"
      ],
      "outputs": [],
      "execution_count": null,
      "metadata": {
        "jupyter": {
          "source_hidden": false,
          "outputs_hidden": false
        },
        "nteract": {
          "transient": {
            "deleting": false
          }
        },
        "gather": {
          "logged": 1726081117215
        }
      }
    },
    {
      "cell_type": "markdown",
      "source": [
        "## Responsible AI Metrics"
      ],
      "metadata": {
        "nteract": {
          "transient": {
            "deleting": false
          }
        }
      }
    },
    {
      "cell_type": "markdown",
      "source": [
        "## Individual Responsible AI metrics on questions and answers"
      ],
      "metadata": {
        "nteract": {
          "transient": {
            "deleting": false
          }
        }
      }
    },
    {
      "cell_type": "code",
      "source": [
        "\n",
        "\n",
        "file_path_rai = 'rai_with_context.jsonl'\n",
        "\n",
        "\n",
        "violence_eval = ViolenceEvaluator(azure_ai_project)\n",
        "sexual_eval=SexualEvaluator(azure_ai_project)\n",
        "selfharm_eval = SelfHarmEvaluator(azure_ai_project)\n",
        "hateunfair_eval=HateUnfairnessEvaluator(azure_ai_project)\n",
        "\n",
        "# Please create Azure AI Studio resource and Project and provdie the below information\n",
        "data = read_jsonl(file_path_rai)\n",
        "for entry in data:\n",
        "    question = entry.get('question')\n",
        "    answer = entry.get('answer')\n",
        "    groundtruth = entry.get('ground_truth')\n",
        "    context = entry.get('context')\n",
        "    print (\"--------------------------------\")\n",
        "    print(question)\n",
        "   \n",
        "    violence_score = violence_eval(\n",
        "        answer=answer,\n",
        "        question=question\n",
        "        )\n",
        "        \n",
        "    print(violence_score)\n",
        "\n",
        "    sexual_score = sexual_eval(\n",
        "        answer=answer,\n",
        "        question=question\n",
        "        )\n",
        "        \n",
        "    print(sexual_score)\n",
        "\n",
        "    selfharm_score = selfharm_eval(\n",
        "            answer=answer,\n",
        "            question=question\n",
        "            )\n",
        "            \n",
        "    print(selfharm_score)\n",
        "\n",
        "    hateunfair_score = hateunfair_eval(\n",
        "            answer=answer,\n",
        "            question=question\n",
        "            )\n",
        "            \n",
        "    print(hateunfair_score)\n"
      ],
      "outputs": [],
      "execution_count": null,
      "metadata": {
        "jupyter": {
          "source_hidden": false,
          "outputs_hidden": false
        },
        "nteract": {
          "transient": {
            "deleting": false
          }
        },
        "gather": {
          "logged": 1726081204897
        }
      }
    },
    {
      "cell_type": "markdown",
      "source": [
        "## Composite Responsible AI metrics on questions and answers"
      ],
      "metadata": {
        "nteract": {
          "transient": {
            "deleting": false
          }
        }
      }
    },
    {
      "cell_type": "code",
      "source": [
        "# Please create Azure AI Studio resource and Project and provdie the below information\n",
        "azure_ai_project = {\n",
        "    \"subscription_id\": os.environ.get(\"AZURE_AI_STUDIO_SUBSCRIPTION_ID\"),\n",
        "    \"resource_group_name\":os.environ.get(\"AZURE_AI_STUDIO_RESOURCE_GROUP_NAME\"),\n",
        "    \"project_name\": os.environ.get(\"AZURE_AI_STUDIO_PROJECT_NAME\"),\n",
        "}\n",
        "contentsafety_eval = ContentSafetyEvaluator(azure_ai_project)\n",
        "data = read_jsonl(file_path_rai)\n",
        "for entry in data:\n",
        "    question = entry.get('question')\n",
        "    answer = entry.get('answer')\n",
        "    groundtruth = entry.get('ground_truth')\n",
        "    context = entry.get('context')\n",
        "    print (\"--------------------------------\")\n",
        "    print(question)\n",
        "    contentsafety_score = contentsafety_eval(\n",
        "        answer=answer,\n",
        "        question=question\n",
        "        )\n",
        "        \n",
        "    print(contentsafety_score)\n",
        "\n",
        "    "
      ],
      "outputs": [],
      "execution_count": null,
      "metadata": {
        "jupyter": {
          "source_hidden": false,
          "outputs_hidden": false
        },
        "nteract": {
          "transient": {
            "deleting": false
          }
        },
        "gather": {
          "logged": 1726081238905
        }
      }
    },
    {
      "cell_type": "markdown",
      "source": [
        "## Composite Responsible AI metrics on Chat Session"
      ],
      "metadata": {
        "nteract": {
          "transient": {
            "deleting": false
          }
        }
      }
    },
    {
      "cell_type": "code",
      "source": [
        "\n",
        "\n",
        "raicomposite_eval = ContentSafetyChatEvaluator(azure_ai_project)\n",
        "conversation = [\n",
        "    {\"role\": \"user\", \"content\": \"what happened in the car\"},\n",
        "    {\"role\": \"assistant\", \"content\": \"A 51-year-old man was found dead in his car. There were blood stains on the dashboard and windscreen. At autopsy, a deep, oblique, long incised injury was found on the front of the neck. It turns out that he died by suicide.\",\"context\":\"car Accidents are major cause of deaths in USA\"}\n",
        "]\n",
        "raicomposite_score =raicomposite_eval(conversation=conversation)\n",
        "print(raicomposite_score)"
      ],
      "outputs": [],
      "execution_count": null,
      "metadata": {
        "jupyter": {
          "source_hidden": false,
          "outputs_hidden": false
        },
        "nteract": {
          "transient": {
            "deleting": false
          }
        },
        "gather": {
          "logged": 1726081255462
        }
      }
    },
    {
      "cell_type": "code",
      "source": [],
      "outputs": [],
      "execution_count": null,
      "metadata": {
        "jupyter": {
          "source_hidden": false,
          "outputs_hidden": false
        },
        "nteract": {
          "transient": {
            "deleting": false
          }
        }
      }
    }
  ],
  "metadata": {
    "kernelspec": {
      "name": "python310-sdkv2",
      "language": "python",
      "display_name": "Python 3.10 - SDK v2"
    },
    "language_info": {
      "name": "python",
      "version": "3.10.14",
      "mimetype": "text/x-python",
      "codemirror_mode": {
        "name": "ipython",
        "version": 3
      },
      "pygments_lexer": "ipython3",
      "nbconvert_exporter": "python",
      "file_extension": ".py"
    },
    "microsoft": {
      "ms_spell_check": {
        "ms_spell_check_language": "en"
      },
      "host": {
        "AzureML": {
          "notebookHasBeenCompleted": true
        }
      }
    },
    "kernel_info": {
      "name": "python310-sdkv2"
    },
    "nteract": {
      "version": "nteract-front-end@1.0.0"
    }
  },
  "nbformat": 4,
  "nbformat_minor": 2
}